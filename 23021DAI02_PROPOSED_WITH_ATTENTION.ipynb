{
 "cells": [
  {
   "cell_type": "code",
   "execution_count": 1,
   "id": "341710a9-39da-4590-88ac-a7bc15a212a5",
   "metadata": {},
   "outputs": [],
   "source": [
    "import warnings\n",
    "warnings.filterwarnings('ignore')\n",
    "import pandas as pd\n",
    "import matplotlib.pyplot as plt\n",
    "import numpy as np\n",
    "from sklearn.decomposition import PCA\n",
    "from sklearn.preprocessing import StandardScaler\n",
    "from sklearn.model_selection import train_test_split\n",
    "import category_encoders as ce\n",
    "from tensorflow.keras.models import Sequential, Model\n",
    "from tensorflow.keras.layers import ConvLSTM2D, Dense, Flatten, Dropout, BatchNormalization, LeakyReLU, Reshape, Embedding, Concatenate, Input, Layer\n",
    "from tensorflow.keras.optimizers import Adam\n",
    "from sklearn.metrics import classification_report, confusion_matrix, f1_score, fbeta_score, precision_score, recall_score, accuracy_score\n",
    "from sklearn.utils.class_weight import compute_class_weight\n",
    "import tensorflow as tf\n",
    "from tensorflow.keras import backend as K\n",
    "from sklearn.utils.class_weight import compute_class_weight\n",
    "from collections import Counter\n",
    "from tensorflow.keras.callbacks import EarlyStopping\n",
    "from tensorflow.keras.regularizers import l2\n",
    "from sklearn.ensemble import RandomForestClassifier"
   ]
  },
  {
   "cell_type": "code",
   "execution_count": 2,
   "id": "5e63cc51-76aa-4d16-936b-1d9ab7a31217",
   "metadata": {},
   "outputs": [],
   "source": [
    "df=pd.read_csv('C:/Users/vnsat/OneDrive/Desktop/M.Tech/Main Project/Final_Dataset_1-VNST.csv')"
   ]
  },
  {
   "cell_type": "code",
   "execution_count": 3,
   "id": "9c1d905c-7a37-45a7-954b-3229519e767b",
   "metadata": {},
   "outputs": [
    {
     "data": {
      "text/plain": [
       "(2666, 23)"
      ]
     },
     "execution_count": 3,
     "metadata": {},
     "output_type": "execute_result"
    }
   ],
   "source": [
    "df.shape"
   ]
  },
  {
   "cell_type": "code",
   "execution_count": 4,
   "id": "7dbd3e6c-aacd-4828-8ef0-99a2ac6833b9",
   "metadata": {},
   "outputs": [
    {
     "name": "stdout",
     "output_type": "stream",
     "text": [
      "State: object\n",
      "Account length: int64\n",
      "Area code: int64\n",
      "International plan: object\n",
      "Voice mail plan: object\n",
      "Number vmail messages: int64\n",
      "Total day minutes: float64\n",
      "Total day calls: int64\n",
      "Total day charge: float64\n",
      "Total eve minutes: float64\n",
      "Total eve calls: int64\n",
      "Total eve charge: float64\n",
      "Total night minutes: float64\n",
      "Total night calls: int64\n",
      "Total night charge: float64\n",
      "Total intl minutes: float64\n",
      "Total intl calls: int64\n",
      "Total intl charge: float64\n",
      "Customer service calls: int64\n",
      "Churn: bool\n",
      "District: object\n",
      "District_Code: object\n",
      "Area: object\n"
     ]
    }
   ],
   "source": [
    "for col in df.columns:\n",
    "    print(f\"{col}: {df[col].dtype}\")"
   ]
  },
  {
   "cell_type": "code",
   "execution_count": 5,
   "id": "f75f7033-5f8c-4e02-b212-08b7a7e113b1",
   "metadata": {},
   "outputs": [],
   "source": [
    "df.drop(['State','Customer service calls','District','District_Code','Area'],axis=1,inplace=True)"
   ]
  },
  {
   "cell_type": "code",
   "execution_count": 6,
   "id": "f483bda2-fea6-4653-96f7-4e52e7b84b46",
   "metadata": {},
   "outputs": [
    {
     "name": "stdout",
     "output_type": "stream",
     "text": [
      "Columns with NaN values and their count:\n",
      " Series([], dtype: int64)\n"
     ]
    }
   ],
   "source": [
    "nan_counts = df.isnull().sum()\n",
    "print(\"Columns with NaN values and their count:\\n\", nan_counts[nan_counts > 0])"
   ]
  },
  {
   "cell_type": "code",
   "execution_count": 7,
   "id": "664cb96c-cae2-40c6-8c6c-b6d3530d30d6",
   "metadata": {},
   "outputs": [],
   "source": [
    "def total_missing_count(col):\n",
    "    is_real_nan = col.isnull().sum()\n",
    "    is_fake_nan = col.astype(str).str.strip().str.lower().isin(['', 'nan', 'none', 'null','Nan','NaN']).sum()\n",
    "    return is_real_nan + is_fake_nan"
   ]
  },
  {
   "cell_type": "code",
   "execution_count": 8,
   "id": "fc98b604-3025-44ab-b9c1-982d3d72a774",
   "metadata": {},
   "outputs": [
    {
     "name": "stdout",
     "output_type": "stream",
     "text": [
      "International plan: 0 total missing (real + fake)\n",
      "Voice mail plan: 0 total missing (real + fake)\n"
     ]
    }
   ],
   "source": [
    "for col in df.select_dtypes(include='object').columns:\n",
    "    count = total_missing_count(df[col])\n",
    "    print(f\"{col}: {count} total missing (real + fake)\")"
   ]
  },
  {
   "cell_type": "code",
   "execution_count": 9,
   "id": "d32a4738-42c8-4df7-9939-bdbfa33b2fa3",
   "metadata": {},
   "outputs": [],
   "source": [
    "df['Total day minutes'] = df['Total day minutes'].astype('int64')\n",
    "df['Total eve minutes'] = df['Total eve minutes'].astype('int64')\n",
    "df['Total night minutes'] = df['Total night minutes'].astype('int64')\n",
    "df['Total intl minutes'] = df['Total intl minutes'].astype('int64')"
   ]
  },
  {
   "cell_type": "code",
   "execution_count": 10,
   "id": "3833f086-9ef2-45c1-bf5e-f40d30ea4e8e",
   "metadata": {},
   "outputs": [
    {
     "name": "stdout",
     "output_type": "stream",
     "text": [
      "International plan\n",
      "No     2396\n",
      "Yes     270\n",
      "Name: count, dtype: int64\n",
      "-------------------------\n",
      "Voice mail plan\n",
      "No     1933\n",
      "Yes     733\n",
      "Name: count, dtype: int64\n",
      "-------------------------\n"
     ]
    }
   ],
   "source": [
    "for col in df.select_dtypes(include='object').columns:\n",
    "    print(df[col].value_counts())\n",
    "    print(\"-\" * 25)"
   ]
  },
  {
   "cell_type": "code",
   "execution_count": 11,
   "id": "6577314f-1bce-464e-9cb8-a144dd7f6ae8",
   "metadata": {},
   "outputs": [
    {
     "data": {
      "image/png": "[encoded data removed]",
      "text/plain": [
       "<Figure size 600x400 with 1 Axes>"
      ]
     },
     "metadata": {},
     "output_type": "display_data"
    }
   ],
   "source": [
    "target_counts = df['Churn'].value_counts()\n",
    "plt.figure(figsize=(6,4))\n",
    "bars=plt.bar(target_counts.index.astype(str), target_counts.values, color=['blue', 'orange'])\n",
    "for bar in bars:\n",
    "    plt.text(bar.get_x() + bar.get_width()/2, bar.get_height(), str(bar.get_height()))\n",
    "plt.xlabel('Churn')\n",
    "plt.ylabel('Count')\n",
    "plt.title('Count of Classes in Target Variable (Churn)')\n",
    "plt.show()"
   ]
  },
  {
   "cell_type": "code",
   "execution_count": 12,
   "id": "8554db12-7a9c-4f92-ac36-714e33b994fe",
   "metadata": {},
   "outputs": [
    {
     "name": "stdout",
     "output_type": "stream",
     "text": [
      "['International plan', 'Voice mail plan']\n"
     ]
    }
   ],
   "source": [
    "object_cols = df.select_dtypes(include='object').columns.tolist()\n",
    "print(object_cols)\n",
    "binary_encoder = ce.BinaryEncoder(cols=object_cols)\n",
    "binary_encoded_df = binary_encoder.fit_transform(df[object_cols])\n",
    "df = df.drop(columns=['International plan','Voice mail plan'])\n",
    "df = pd.concat([df, binary_encoded_df], axis=1)"
   ]
  },
  {
   "cell_type": "code",
   "execution_count": 13,
   "id": "87391a3c-2eab-4f6f-a3fd-beff6f062230",
   "metadata": {},
   "outputs": [
    {
     "name": "stdout",
     "output_type": "stream",
     "text": [
      "[False  True]\n"
     ]
    }
   ],
   "source": [
    "print(df['Churn'].unique())"
   ]
  },
  {
   "cell_type": "code",
   "execution_count": 14,
   "id": "f72b740c-273a-4314-b9e6-f8f90bf2aac9",
   "metadata": {},
   "outputs": [],
   "source": [
    "df['Churn']=df['Churn'].astype(int)"
   ]
  },
  {
   "cell_type": "code",
   "execution_count": 15,
   "id": "e90a20a2-c2f8-4076-996a-45c66b147422",
   "metadata": {},
   "outputs": [],
   "source": [
    "X = df.drop(columns=['Churn'])\n",
    "y = df['Churn']"
   ]
  },
  {
   "cell_type": "code",
   "execution_count": 16,
   "id": "88944240-92ea-47ba-ad8f-d1f24e8b5bd9",
   "metadata": {},
   "outputs": [],
   "source": [
    "X_train_full, X_test, y_train_full, y_test = train_test_split(X, y, test_size=0.2, stratify=y, random_state=36)\n",
    "X_train_real, X_val_real, y_train_real, y_val_real = train_test_split(\n",
    "    X_train_full, y_train_full, test_size=0.2, stratify=y_train_full, random_state=36)"
   ]
  },
  {
   "cell_type": "code",
   "execution_count": 17,
   "id": "d3391540-1175-40c1-b3fe-5d1ddd87b838",
   "metadata": {},
   "outputs": [
    {
     "name": "stdout",
     "output_type": "stream",
     "text": [
      "Test set class distribution: Counter({0: 456, 1: 78})\n"
     ]
    }
   ],
   "source": [
    "print(\"Test set class distribution:\", Counter(y_test))"
   ]
  },
  {
   "cell_type": "code",
   "execution_count": 18,
   "id": "d9412b6f-318c-4ac3-9c59-97b34697a5ba",
   "metadata": {},
   "outputs": [],
   "source": [
    "scaler = StandardScaler()\n",
    "scaled_data = scaler.fit_transform(X)"
   ]
  },
  {
   "cell_type": "code",
   "execution_count": 19,
   "id": "6ab848b8-1436-4fd8-94de-d692fb276afb",
   "metadata": {},
   "outputs": [
    {
     "data": {
      "text/html": [
       "<style>#sk-container-id-1 {\n",
       "  /* Definition of color scheme common for light and dark mode */\n",
       "  --sklearn-color-text: #000;\n",
       "  --sklearn-color-text-muted: #666;\n",
       "  --sklearn-color-line: gray;\n",
       "  /* Definition of color scheme for unfitted estimators */\n",
       "  --sklearn-color-unfitted-level-0: #fff5e6;\n",
       "  --sklearn-color-unfitted-level-1: #f6e4d2;\n",
       "  --sklearn-color-unfitted-level-2: #ffe0b3;\n",
       "  --sklearn-color-unfitted-level-3: chocolate;\n",
       "  /* Definition of color scheme for fitted estimators */\n",
       "  --sklearn-color-fitted-level-0: #f0f8ff;\n",
       "  --sklearn-color-fitted-level-1: #d4ebff;\n",
       "  --sklearn-color-fitted-level-2: #b3dbfd;\n",
       "  --sklearn-color-fitted-level-3: cornflowerblue;\n",
       "\n",
       "  /* Specific color for light theme */\n",
       "  --sklearn-color-text-on-default-background: var(--sg-text-color, var(--theme-code-foreground, var(--jp-content-font-color1, black)));\n",
       "  --sklearn-color-background: var(--sg-background-color, var(--theme-background, var(--jp-layout-color0, white)));\n",
       "  --sklearn-color-border-box: var(--sg-text-color, var(--theme-code-foreground, var(--jp-content-font-color1, black)));\n",
       "  --sklearn-color-icon: #696969;\n",
       "\n",
       "  @media (prefers-color-scheme: dark) {\n",
       "    /* Redefinition of color scheme for dark theme */\n",
       "    --sklearn-color-text-on-default-background: var(--sg-text-color, var(--theme-code-foreground, var(--jp-content-font-color1, white)));\n",
       "    --sklearn-color-background: var(--sg-background-color, var(--theme-background, var(--jp-layout-color0, #111)));\n",
       "    --sklearn-color-border-box: var(--sg-text-color, var(--theme-code-foreground, var(--jp-content-font-color1, white)));\n",
       "    --sklearn-color-icon: #878787;\n",
       "  }\n",
       "}\n",
       "\n",
       "#sk-container-id-1 {\n",
       "  color: var(--sklearn-color-text);\n",
       "}\n",
       "\n",
       "#sk-container-id-1 pre {\n",
       "  padding: 0;\n",
       "}\n",
       "\n",
       "#sk-container-id-1 input.sk-hidden--visually {\n",
       "  border: 0;\n",
       "  clip: rect(1px 1px 1px 1px);\n",
       "  clip: rect(1px, 1px, 1px, 1px);\n",
       "  height: 1px;\n",
       "  margin: -1px;\n",
       "  overflow: hidden;\n",
       "  padding: 0;\n",
       "  position: absolute;\n",
       "  width: 1px;\n",
       "}\n",
       "\n",
       "#sk-container-id-1 div.sk-dashed-wrapped {\n",
       "  border: 1px dashed var(--sklearn-color-line);\n",
       "  margin: 0 0.4em 0.5em 0.4em;\n",
       "  box-sizing: border-box;\n",
       "  padding-bottom: 0.4em;\n",
       "  background-color: var(--sklearn-color-background);\n",
       "}\n",
       "\n",
       "#sk-container-id-1 div.sk-container {\n",
       "  /* jupyter's `normalize.less` sets `[hidden] { display: none; }`\n",
       "     but bootstrap.min.css set `[hidden] { display: none !important; }`\n",
       "     so we also need the `!important` here to be able to override the\n",
       "     default hidden behavior on the sphinx rendered scikit-learn.org.\n",
       "     See: https://github.com/scikit-learn/scikit-learn/issues/21755 */\n",
       "  display: inline-block !important;\n",
       "  position: relative;\n",
       "}\n",
       "\n",
       "#sk-container-id-1 div.sk-text-repr-fallback {\n",
       "  display: none;\n",
       "}\n",
       "\n",
       "div.sk-parallel-item,\n",
       "div.sk-serial,\n",
       "div.sk-item {\n",
       "  /* draw centered vertical line to link estimators */\n",
       "  background-image: linear-gradient(var(--sklearn-color-text-on-default-background), var(--sklearn-color-text-on-default-background));\n",
       "  background-size: 2px 100%;\n",
       "  background-repeat: no-repeat;\n",
       "  background-position: center center;\n",
       "}\n",
       "\n",
       "/* Parallel-specific style estimator block */\n",
       "\n",
       "#sk-container-id-1 div.sk-parallel-item::after {\n",
       "  content: \"\";\n",
       "  width: 100%;\n",
       "  border-bottom: 2px solid var(--sklearn-color-text-on-default-background);\n",
       "  flex-grow: 1;\n",
       "}\n",
       "\n",
       "#sk-container-id-1 div.sk-parallel {\n",
       "  display: flex;\n",
       "  align-items: stretch;\n",
       "  justify-content: center;\n",
       "  background-color: var(--sklearn-color-background);\n",
       "  position: relative;\n",
       "}\n",
       "\n",
       "#sk-container-id-1 div.sk-parallel-item {\n",
       "  display: flex;\n",
       "  flex-direction: column;\n",
       "}\n",
       "\n",
       "#sk-container-id-1 div.sk-parallel-item:first-child::after {\n",
       "  align-self: flex-end;\n",
       "  width: 50%;\n",
       "}\n",
       "\n",
       "#sk-container-id-1 div.sk-parallel-item:last-child::after {\n",
       "  align-self: flex-start;\n",
       "  width: 50%;\n",
       "}\n",
       "\n",
       "#sk-container-id-1 div.sk-parallel-item:only-child::after {\n",
       "  width: 0;\n",
       "}\n",
       "\n",
       "/* Serial-specific style estimator block */\n",
       "\n",
       "#sk-container-id-1 div.sk-serial {\n",
       "  display: flex;\n",
       "  flex-direction: column;\n",
       "  align-items: center;\n",
       "  background-color: var(--sklearn-color-background);\n",
       "  padding-right: 1em;\n",
       "  padding-left: 1em;\n",
       "}\n",
       "\n",
       "\n",
       "/* Toggleable style: style used for estimator/Pipeline/ColumnTransformer box that is\n",
       "clickable and can be expanded/collapsed.\n",
       "- Pipeline and ColumnTransformer use this feature and define the default style\n",
       "- Estimators will overwrite some part of the style using the `sk-estimator` class\n",
       "*/\n",
       "\n",
       "/* Pipeline and ColumnTransformer style (default) */\n",
       "\n",
       "#sk-container-id-1 div.sk-toggleable {\n",
       "  /* Default theme specific background. It is overwritten whether we have a\n",
       "  specific estimator or a Pipeline/ColumnTransformer */\n",
       "  background-color: var(--sklearn-color-background);\n",
       "}\n",
       "\n",
       "/* Toggleable label */\n",
       "#sk-container-id-1 label.sk-toggleable__label {\n",
       "  cursor: pointer;\n",
       "  display: flex;\n",
       "  width: 100%;\n",
       "  margin-bottom: 0;\n",
       "  padding: 0.5em;\n",
       "  box-sizing: border-box;\n",
       "  text-align: center;\n",
       "  align-items: start;\n",
       "  justify-content: space-between;\n",
       "  gap: 0.5em;\n",
       "}\n",
       "\n",
       "#sk-container-id-1 label.sk-toggleable__label .caption {\n",
       "  font-size: 0.6rem;\n",
       "  font-weight: lighter;\n",
       "  color: var(--sklearn-color-text-muted);\n",
       "}\n",
       "\n",
       "#sk-container-id-1 label.sk-toggleable__label-arrow:before {\n",
       "  /* Arrow on the left of the label */\n",
       "  content: \"▸\";\n",
       "  float: left;\n",
       "  margin-right: 0.25em;\n",
       "  color: var(--sklearn-color-icon);\n",
       "}\n",
       "\n",
       "#sk-container-id-1 label.sk-toggleable__label-arrow:hover:before {\n",
       "  color: var(--sklearn-color-text);\n",
       "}\n",
       "\n",
       "/* Toggleable content - dropdown */\n",
       "\n",
       "#sk-container-id-1 div.sk-toggleable__content {\n",
       "  max-height: 0;\n",
       "  max-width: 0;\n",
       "  overflow: hidden;\n",
       "  text-align: left;\n",
       "  /* unfitted */\n",
       "  background-color: var(--sklearn-color-unfitted-level-0);\n",
       "}\n",
       "\n",
       "#sk-container-id-1 div.sk-toggleable__content.fitted {\n",
       "  /* fitted */\n",
       "  background-color: var(--sklearn-color-fitted-level-0);\n",
       "}\n",
       "\n",
       "#sk-container-id-1 div.sk-toggleable__content pre {\n",
       "  margin: 0.2em;\n",
       "  border-radius: 0.25em;\n",
       "  color: var(--sklearn-color-text);\n",
       "  /* unfitted */\n",
       "  background-color: var(--sklearn-color-unfitted-level-0);\n",
       "}\n",
       "\n",
       "#sk-container-id-1 div.sk-toggleable__content.fitted pre {\n",
       "  /* unfitted */\n",
       "  background-color: var(--sklearn-color-fitted-level-0);\n",
       "}\n",
       "\n",
       "#sk-container-id-1 input.sk-toggleable__control:checked~div.sk-toggleable__content {\n",
       "  /* Expand drop-down */\n",
       "  max-height: 200px;\n",
       "  max-width: 100%;\n",
       "  overflow: auto;\n",
       "}\n",
       "\n",
       "#sk-container-id-1 input.sk-toggleable__control:checked~label.sk-toggleable__label-arrow:before {\n",
       "  content: \"▾\";\n",
       "}\n",
       "\n",
       "/* Pipeline/ColumnTransformer-specific style */\n",
       "\n",
       "#sk-container-id-1 div.sk-label input.sk-toggleable__control:checked~label.sk-toggleable__label {\n",
       "  color: var(--sklearn-color-text);\n",
       "  background-color: var(--sklearn-color-unfitted-level-2);\n",
       "}\n",
       "\n",
       "#sk-container-id-1 div.sk-label.fitted input.sk-toggleable__control:checked~label.sk-toggleable__label {\n",
       "  background-color: var(--sklearn-color-fitted-level-2);\n",
       "}\n",
       "\n",
       "/* Estimator-specific style */\n",
       "\n",
       "/* Colorize estimator box */\n",
       "#sk-container-id-1 div.sk-estimator input.sk-toggleable__control:checked~label.sk-toggleable__label {\n",
       "  /* unfitted */\n",
       "  background-color: var(--sklearn-color-unfitted-level-2);\n",
       "}\n",
       "\n",
       "#sk-container-id-1 div.sk-estimator.fitted input.sk-toggleable__control:checked~label.sk-toggleable__label {\n",
       "  /* fitted */\n",
       "  background-color: var(--sklearn-color-fitted-level-2);\n",
       "}\n",
       "\n",
       "#sk-container-id-1 div.sk-label label.sk-toggleable__label,\n",
       "#sk-container-id-1 div.sk-label label {\n",
       "  /* The background is the default theme color */\n",
       "  color: var(--sklearn-color-text-on-default-background);\n",
       "}\n",
       "\n",
       "/* On hover, darken the color of the background */\n",
       "#sk-container-id-1 div.sk-label:hover label.sk-toggleable__label {\n",
       "  color: var(--sklearn-color-text);\n",
       "  background-color: var(--sklearn-color-unfitted-level-2);\n",
       "}\n",
       "\n",
       "/* Label box, darken color on hover, fitted */\n",
       "#sk-container-id-1 div.sk-label.fitted:hover label.sk-toggleable__label.fitted {\n",
       "  color: var(--sklearn-color-text);\n",
       "  background-color: var(--sklearn-color-fitted-level-2);\n",
       "}\n",
       "\n",
       "/* Estimator label */\n",
       "\n",
       "#sk-container-id-1 div.sk-label label {\n",
       "  font-family: monospace;\n",
       "  font-weight: bold;\n",
       "  display: inline-block;\n",
       "  line-height: 1.2em;\n",
       "}\n",
       "\n",
       "#sk-container-id-1 div.sk-label-container {\n",
       "  text-align: center;\n",
       "}\n",
       "\n",
       "/* Estimator-specific */\n",
       "#sk-container-id-1 div.sk-estimator {\n",
       "  font-family: monospace;\n",
       "  border: 1px dotted var(--sklearn-color-border-box);\n",
       "  border-radius: 0.25em;\n",
       "  box-sizing: border-box;\n",
       "  margin-bottom: 0.5em;\n",
       "  /* unfitted */\n",
       "  background-color: var(--sklearn-color-unfitted-level-0);\n",
       "}\n",
       "\n",
       "#sk-container-id-1 div.sk-estimator.fitted {\n",
       "  /* fitted */\n",
       "  background-color: var(--sklearn-color-fitted-level-0);\n",
       "}\n",
       "\n",
       "/* on hover */\n",
       "#sk-container-id-1 div.sk-estimator:hover {\n",
       "  /* unfitted */\n",
       "  background-color: var(--sklearn-color-unfitted-level-2);\n",
       "}\n",
       "\n",
       "#sk-container-id-1 div.sk-estimator.fitted:hover {\n",
       "  /* fitted */\n",
       "  background-color: var(--sklearn-color-fitted-level-2);\n",
       "}\n",
       "\n",
       "/* Specification for estimator info (e.g. \"i\" and \"?\") */\n",
       "\n",
       "/* Common style for \"i\" and \"?\" */\n",
       "\n",
       ".sk-estimator-doc-link,\n",
       "a:link.sk-estimator-doc-link,\n",
       "a:visited.sk-estimator-doc-link {\n",
       "  float: right;\n",
       "  font-size: smaller;\n",
       "  line-height: 1em;\n",
       "  font-family: monospace;\n",
       "  background-color: var(--sklearn-color-background);\n",
       "  border-radius: 1em;\n",
       "  height: 1em;\n",
       "  width: 1em;\n",
       "  text-decoration: none !important;\n",
       "  margin-left: 0.5em;\n",
       "  text-align: center;\n",
       "  /* unfitted */\n",
       "  border: var(--sklearn-color-unfitted-level-1) 1pt solid;\n",
       "  color: var(--sklearn-color-unfitted-level-1);\n",
       "}\n",
       "\n",
       ".sk-estimator-doc-link.fitted,\n",
       "a:link.sk-estimator-doc-link.fitted,\n",
       "a:visited.sk-estimator-doc-link.fitted {\n",
       "  /* fitted */\n",
       "  border: var(--sklearn-color-fitted-level-1) 1pt solid;\n",
       "  color: var(--sklearn-color-fitted-level-1);\n",
       "}\n",
       "\n",
       "/* On hover */\n",
       "div.sk-estimator:hover .sk-estimator-doc-link:hover,\n",
       ".sk-estimator-doc-link:hover,\n",
       "div.sk-label-container:hover .sk-estimator-doc-link:hover,\n",
       ".sk-estimator-doc-link:hover {\n",
       "  /* unfitted */\n",
       "  background-color: var(--sklearn-color-unfitted-level-3);\n",
       "  color: var(--sklearn-color-background);\n",
       "  text-decoration: none;\n",
       "}\n",
       "\n",
       "div.sk-estimator.fitted:hover .sk-estimator-doc-link.fitted:hover,\n",
       ".sk-estimator-doc-link.fitted:hover,\n",
       "div.sk-label-container:hover .sk-estimator-doc-link.fitted:hover,\n",
       ".sk-estimator-doc-link.fitted:hover {\n",
       "  /* fitted */\n",
       "  background-color: var(--sklearn-color-fitted-level-3);\n",
       "  color: var(--sklearn-color-background);\n",
       "  text-decoration: none;\n",
       "}\n",
       "\n",
       "/* Span, style for the box shown on hovering the info icon */\n",
       ".sk-estimator-doc-link span {\n",
       "  display: none;\n",
       "  z-index: 9999;\n",
       "  position: relative;\n",
       "  font-weight: normal;\n",
       "  right: .2ex;\n",
       "  padding: .5ex;\n",
       "  margin: .5ex;\n",
       "  width: min-content;\n",
       "  min-width: 20ex;\n",
       "  max-width: 50ex;\n",
       "  color: var(--sklearn-color-text);\n",
       "  box-shadow: 2pt 2pt 4pt #999;\n",
       "  /* unfitted */\n",
       "  background: var(--sklearn-color-unfitted-level-0);\n",
       "  border: .5pt solid var(--sklearn-color-unfitted-level-3);\n",
       "}\n",
       "\n",
       ".sk-estimator-doc-link.fitted span {\n",
       "  /* fitted */\n",
       "  background: var(--sklearn-color-fitted-level-0);\n",
       "  border: var(--sklearn-color-fitted-level-3);\n",
       "}\n",
       "\n",
       ".sk-estimator-doc-link:hover span {\n",
       "  display: block;\n",
       "}\n",
       "\n",
       "/* \"?\"-specific style due to the `<a>` HTML tag */\n",
       "\n",
       "#sk-container-id-1 a.estimator_doc_link {\n",
       "  float: right;\n",
       "  font-size: 1rem;\n",
       "  line-height: 1em;\n",
       "  font-family: monospace;\n",
       "  background-color: var(--sklearn-color-background);\n",
       "  border-radius: 1rem;\n",
       "  height: 1rem;\n",
       "  width: 1rem;\n",
       "  text-decoration: none;\n",
       "  /* unfitted */\n",
       "  color: var(--sklearn-color-unfitted-level-1);\n",
       "  border: var(--sklearn-color-unfitted-level-1) 1pt solid;\n",
       "}\n",
       "\n",
       "#sk-container-id-1 a.estimator_doc_link.fitted {\n",
       "  /* fitted */\n",
       "  border: var(--sklearn-color-fitted-level-1) 1pt solid;\n",
       "  color: var(--sklearn-color-fitted-level-1);\n",
       "}\n",
       "\n",
       "/* On hover */\n",
       "#sk-container-id-1 a.estimator_doc_link:hover {\n",
       "  /* unfitted */\n",
       "  background-color: var(--sklearn-color-unfitted-level-3);\n",
       "  color: var(--sklearn-color-background);\n",
       "  text-decoration: none;\n",
       "}\n",
       "\n",
       "#sk-container-id-1 a.estimator_doc_link.fitted:hover {\n",
       "  /* fitted */\n",
       "  background-color: var(--sklearn-color-fitted-level-3);\n",
       "}\n",
       "</style><div id=\"sk-container-id-1\" class=\"sk-top-container\"><div class=\"sk-text-repr-fallback\"><pre>PCA()</pre><b>In a Jupyter environment, please rerun this cell to show the HTML representation or trust the notebook. <br />On GitHub, the HTML representation is unable to render, please try loading this page with nbviewer.org.</b></div><div class=\"sk-container\" hidden><div class=\"sk-item\"><div class=\"sk-estimator fitted sk-toggleable\"><input class=\"sk-toggleable__control sk-hidden--visually\" id=\"sk-estimator-id-1\" type=\"checkbox\" checked><label for=\"sk-estimator-id-1\" class=\"sk-toggleable__label fitted sk-toggleable__label-arrow\"><div><div>PCA</div></div><div><a class=\"sk-estimator-doc-link fitted\" rel=\"noreferrer\" target=\"_blank\" href=\"https://scikit-learn.org/1.6/modules/generated/sklearn.decomposition.PCA.html\">?<span>Documentation for PCA</span></a><span class=\"sk-estimator-doc-link fitted\">i<span>Fitted</span></span></div></label><div class=\"sk-toggleable__content fitted\"><pre>PCA()</pre></div> </div></div></div></div>"
      ],
      "text/plain": [
       "PCA()"
      ]
     },
     "execution_count": 19,
     "metadata": {},
     "output_type": "execute_result"
    }
   ],
   "source": [
    "pca = PCA()\n",
    "pca.fit(scaled_data)"
   ]
  },
  {
   "cell_type": "code",
   "execution_count": 20,
   "id": "3fe213e9-4dff-46ce-8ac3-68e88eb776f8",
   "metadata": {},
   "outputs": [
    {
     "data": {
      "image/png": "[encoded data removed]",
      "text/plain": [
       "<Figure size 800x500 with 1 Axes>"
      ]
     },
     "metadata": {},
     "output_type": "display_data"
    }
   ],
   "source": [
    "cumulative_variance = np.cumsum(pca.explained_variance_ratio_)\n",
    "plt.figure(figsize=(8, 5))\n",
    "plt.plot(cumulative_variance, marker='o', linestyle='--', color='b')\n",
    "plt.title('Cumulative Explained Variance by PCA Components')\n",
    "plt.xlabel('Number of Components')\n",
    "plt.ylabel('Cumulative Explained Variance')\n",
    "plt.grid(True)\n",
    "plt.show()"
   ]
  },
  {
   "cell_type": "code",
   "execution_count": 21,
   "id": "a36c733f-0d1d-41c7-9d0c-11a08f0003e6",
   "metadata": {},
   "outputs": [],
   "source": [
    "X_train_scaled = scaler.fit_transform(X_train_real)\n",
    "X_val_scaled = scaler.transform(X_val_real)\n",
    "X_test_scaled = scaler.transform(X_test)"
   ]
  },
  {
   "cell_type": "code",
   "execution_count": 22,
   "id": "a28ea6dc-2650-46e5-92dd-d133383317b9",
   "metadata": {},
   "outputs": [],
   "source": [
    "n_components = 17\n",
    "pca = PCA(n_components=n_components)\n",
    "X_train_pca = pca.fit_transform(X_train_scaled)\n",
    "X_val_pca = pca.transform(X_val_scaled)\n",
    "X_test_pca = pca.transform(X_test_scaled)"
   ]
  },
  {
   "cell_type": "code",
   "execution_count": 23,
   "id": "eb659774-0580-4ab1-b55d-f905246a62b0",
   "metadata": {},
   "outputs": [
    {
     "name": "stdout",
     "output_type": "stream",
     "text": [
      "Shape of PCA components: (17, 18)\n",
      "Shape of X columns: 18\n"
     ]
    }
   ],
   "source": [
    "print(f\"Shape of PCA components: {pca.components_.shape}\")\n",
    "print(f\"Shape of X columns: {len(X.columns)}\")"
   ]
  },
  {
   "cell_type": "code",
   "execution_count": 24,
   "id": "432eda98-bf83-433d-a5cb-f700d07ab976",
   "metadata": {},
   "outputs": [],
   "source": [
    "X_train_pca_reshaped = X_train_pca.reshape((X_train_pca.shape[0], 1, 1, X_train_pca.shape[1], 1))\n",
    "X_val_pca_reshaped = X_val_pca.reshape((X_val_pca.shape[0], 1, 1, X_val_pca.shape[1], 1))\n",
    "X_test_pca_reshaped = X_test_pca.reshape((X_test_pca.shape[0], 1, 1, X_test_pca.shape[1], 1))"
   ]
  },
  {
   "cell_type": "code",
   "execution_count": 25,
   "id": "c68a402e-5b5d-40d6-9b27-9d189e8d7113",
   "metadata": {},
   "outputs": [
    {
     "name": "stdout",
     "output_type": "stream",
     "text": [
      "Top 17 Features after PCA: ['Total intl minutes', 'Total intl charge', 'Total eve minutes', 'Total eve charge', 'Total day minutes', 'Total day charge', 'Account length', 'Total night charge', 'Total night minutes', 'Total night calls', 'International plan_1', 'International plan_0', 'Total day calls', 'Total intl calls', 'Total eve calls', 'Number vmail messages', 'Voice mail plan_1']\n"
     ]
    }
   ],
   "source": [
    "selected_column_names = X.columns.tolist()\n",
    "components_df = pd.DataFrame(pca.components_, columns=selected_column_names)\n",
    "top_features = components_df.abs().sum(axis=0).nlargest(n_components).index.tolist()\n",
    "print(\"Top 17 Features after PCA:\", top_features)"
   ]
  },
  {
   "cell_type": "code",
   "execution_count": 26,
   "id": "bb2673a9-ad7f-48d5-9816-e6519d2a6ef0",
   "metadata": {},
   "outputs": [],
   "source": [
    "X_minority = X_train_pca[y_train_real == 1]\n",
    "y_minority = y_train_real[y_train_real == 1]\n",
    "X_minority = X_minority.reshape((X_minority.shape[0], 1, 1, X_minority.shape[1], 1))\n",
    "latent_dim = 100\n",
    "n_features = X_train_pca.shape[1]\n",
    "n_classes = 2"
   ]
  },
  {
   "cell_type": "code",
   "execution_count": 27,
   "id": "c8649716-aa1d-4b26-b3e4-acaa9d00d318",
   "metadata": {},
   "outputs": [],
   "source": [
    "def build_generator(latent_dim, n_classes, n_features):\n",
    "    noise_input = Input(shape=(latent_dim,), name=\"noise_input\")\n",
    "    label_input = Input(shape=(1,), dtype='int32', name=\"label_input\")\n",
    "\n",
    "    label_embedding = Embedding(input_dim=n_classes, output_dim=latent_dim)(label_input)\n",
    "    label_embedding = Flatten()(label_embedding)\n",
    "\n",
    "    merged_input = Concatenate()([noise_input, label_embedding])\n",
    "\n",
    "    x = Dense(256)(merged_input)\n",
    "    x = LeakyReLU(alpha=0.2)(x)\n",
    "    x = BatchNormalization()(x)\n",
    "\n",
    "    x = Dense(512)(x)\n",
    "    x = LeakyReLU(alpha=0.2)(x)\n",
    "    x = BatchNormalization()(x)\n",
    "\n",
    "    x = Dense(1024)(x)\n",
    "    x = LeakyReLU(alpha=0.2)(x)\n",
    "    x = BatchNormalization()(x)\n",
    "\n",
    "    x = Dropout(0.3)(x)\n",
    "\n",
    "    x = Dense(n_features, activation='tanh')(x)\n",
    "    output = Reshape((1, 1, n_features, 1))(x)\n",
    "\n",
    "    return Model([noise_input, label_input], output, name=\"Generator\")"
   ]
  },
  {
   "cell_type": "code",
   "execution_count": 28,
   "id": "a591511c-30db-4bee-859c-1a222054d100",
   "metadata": {},
   "outputs": [],
   "source": [
    "def build_discriminator(n_classes, n_features):\n",
    "    data_input = Input(shape=(1, 1, n_features, 1))\n",
    "    label_input = Input(shape=(1,), dtype='int32')\n",
    "\n",
    "    x = Flatten()(data_input)\n",
    "\n",
    "    label_embedding = Embedding(n_classes, n_features)(label_input)\n",
    "    label_embedding = Flatten()(label_embedding)\n",
    "\n",
    "    merged = Concatenate()([x, label_embedding])\n",
    "\n",
    "    x = Dense(512)(merged)\n",
    "    x = LeakyReLU(alpha=0.2)(x)\n",
    "    x = Dropout(0.4)(x)\n",
    "\n",
    "    x = Dense(256)(x)\n",
    "    x = LeakyReLU(alpha=0.2)(x)\n",
    "    x = Dropout(0.4)(x)\n",
    "\n",
    "    x = Dense(128)(x)\n",
    "    x = LeakyReLU(alpha=0.2)(x)\n",
    "\n",
    "    output = Dense(1, activation='sigmoid')(x)\n",
    "\n",
    "    return Model([data_input, label_input], output, name=\"Discriminator\")"
   ]
  },
  {
   "cell_type": "code",
   "execution_count": 29,
   "id": "e97c3cc0-bce6-4454-a569-a0dc4172a48c",
   "metadata": {},
   "outputs": [],
   "source": [
    "generator = build_generator(latent_dim, n_classes, n_features)\n",
    "discriminator = build_discriminator(n_classes, n_features)\n",
    "discriminator.compile(optimizer=Adam(learning_rate=0.0001, beta_1=0.5), loss='binary_crossentropy', metrics=['accuracy'])\n",
    "noise = Input(shape=(latent_dim,))\n",
    "label = Input(shape=(1,))\n",
    "generated_data = generator([noise, label])\n",
    "discriminator.trainable = False\n",
    "validity = discriminator([generated_data, label])\n",
    "cgan = Model([noise, label], validity)\n",
    "cgan.compile(optimizer=Adam(0.0002, 0.5), loss='binary_crossentropy')"
   ]
  },
  {
   "cell_type": "code",
   "execution_count": 30,
   "id": "e5953f38-dae9-479c-b9f1-77134c3761da",
   "metadata": {},
   "outputs": [],
   "source": [
    "def generate_real_samples(n_samples):\n",
    "    idx = np.random.randint(0, X_minority.shape[0], n_samples)\n",
    "    X_real = X_minority[idx]\n",
    "    labels = y_train_real.iloc[idx].values.reshape(-1, 1)  # Ensure shape is (n_samples, 1)\n",
    "    y_real = np.ones((n_samples, 1))*0.9    # Label for real images\n",
    "    return X_real, y_real, labels"
   ]
  },
  {
   "cell_type": "code",
   "execution_count": 31,
   "id": "35e3683f-4b98-441b-8ea2-6efcd917eefc",
   "metadata": {},
   "outputs": [],
   "source": [
    "def generate_fake_samples(n_samples):\n",
    "    noise = np.random.randn(n_samples, latent_dim)\n",
    "    labels = np.random.randint(0, n_classes, size=(n_samples, 1))  # Random class labels\n",
    "    X_fake = generator.predict([noise, labels])\n",
    "    y_fake = np.zeros((n_samples, 1))+0.1  # Label for fake images\n",
    "    return X_fake, y_fake, labels"
   ]
  },
  {
   "cell_type": "code",
   "execution_count": 32,
   "id": "a8bc11ef-7c7d-4530-bec7-80d818840adc",
   "metadata": {},
   "outputs": [
    {
     "name": "stdout",
     "output_type": "stream",
     "text": [
      "Generating 1209 synthetic samples for class 1...\n"
     ]
    }
   ],
   "source": [
    "#epochs = 1000\n",
    "#batch_size = 64\n",
    "n_class_0 = (y_train_real == 0).sum()\n",
    "n_class_1 = (y_train_real == 1).sum()\n",
    "n_to_generate = n_class_0 - n_class_1\n",
    "print(f\"Generating {n_to_generate} synthetic samples for class 1...\")\n",
    "\n",
    "@tf.function\n",
    "def train_step(X_real, y_real, labels_real, batch_size):\n",
    "    noise = tf.random.normal([batch_size, latent_dim])\n",
    "    sampled_labels = tf.random.uniform([batch_size, 1], maxval=n_classes, dtype=tf.int32)\n",
    "\n",
    "    with tf.GradientTape() as disc_tape, tf.GradientTape() as gen_tape:\n",
    "        generated_data = generator([noise, sampled_labels], training=True)\n",
    "\n",
    "        real_output = discriminator([X_real, labels_real], training=True)\n",
    "        fake_output = discriminator([generated_data, sampled_labels], training=True)\n",
    "\n",
    "        disc_loss_real = tf.keras.losses.binary_crossentropy(tf.ones_like(real_output)*0.9, real_output)\n",
    "        disc_loss_fake = tf.keras.losses.binary_crossentropy(tf.zeros_like(fake_output)+0.1, fake_output)\n",
    "        disc_loss = 0.5 * (disc_loss_real + disc_loss_fake)\n",
    "\n",
    "        gen_loss = tf.keras.losses.binary_crossentropy(tf.ones_like(fake_output), fake_output)\n",
    "\n",
    "    gradients_of_discriminator = disc_tape.gradient(disc_loss, discriminator.trainable_variables)\n",
    "    gradients_of_generator = gen_tape.gradient(gen_loss, generator.trainable_variables)\n",
    "\n",
    "    disc_optimizer.apply_gradients(zip(gradients_of_discriminator, discriminator.trainable_variables))\n",
    "    gen_optimizer.apply_gradients(zip(gradients_of_generator, generator.trainable_variables))\n",
    "\n",
    "    return tf.reduce_mean(disc_loss), tf.reduce_mean(gen_loss)"
   ]
  },
  {
   "cell_type": "code",
   "execution_count": 33,
   "id": "ded945fa-a957-4a35-87b9-04ef841ef840",
   "metadata": {},
   "outputs": [],
   "source": [
    "def train_gan(X_minority, y_train_real, epochs=1000, batch_size=64):\n",
    "    for epoch in range(epochs):\n",
    "        # Prepare real and fake batches for discriminator\n",
    "        X_real, y_real, labels_real = generate_real_samples(X_minority, y_train_real, batch_size // 2)\n",
    "        X_fake, y_fake, labels_fake = generate_fake_samples(batch_size // 2)\n",
    "\n",
    "        # Train discriminator\n",
    "        d_loss_real = discriminator.train_on_batch([X_real, labels_real], y_real)\n",
    "        d_loss_fake = discriminator.train_on_batch([X_fake, labels_fake], y_fake)\n",
    "        d_loss = 0.5 * (d_loss_real[0] + d_loss_fake[0])\n",
    "\n",
    "        # Train generator (via combined model)\n",
    "        noise = np.random.randn(batch_size, latent_dim)\n",
    "        sampled_labels = np.random.randint(0, n_classes, size=(batch_size, 1))\n",
    "        y_gan = np.ones((batch_size, 1))  # try to fool discriminator\n",
    "        g_loss = cgan.train_on_batch([noise, sampled_labels], y_gan)\n",
    "\n",
    "        if epoch % 50 == 0 or epoch == epochs - 1:\n",
    "            print(f\"Epoch {epoch}/{epochs} | D Loss: {d_loss:.4f} | G Loss: {g_loss:.4f}\")"
   ]
  },
  {
   "cell_type": "code",
   "execution_count": 34,
   "id": "be75223f-01a3-4533-991c-e5ab27667a3a",
   "metadata": {},
   "outputs": [
    {
     "name": "stdout",
     "output_type": "stream",
     "text": [
      "\u001b[1m38/38\u001b[0m \u001b[32m━━━━━━━━━━━━━━━━━━━━\u001b[0m\u001b[37m\u001b[0m \u001b[1m0s\u001b[0m 6ms/step\n"
     ]
    }
   ],
   "source": [
    "n_synthetic = X_minority.shape[0]\n",
    "#noise = np.random.randn(n_synthetic, latent_dim)\n",
    "#labels = np.ones((n_synthetic, 1))  # Assuming you want minority class label 1\n",
    "#synthetic_samples = generator.predict([noise, labels]).reshape(n_synthetic, n_features)\n",
    "\n",
    "noise = np.random.randn(n_to_generate, latent_dim)\n",
    "labels = np.ones((n_to_generate, 1))  # Label = 1 for minority class\n",
    "synthetic_samples = generator.predict([noise, labels])\n",
    "synthetic_samples = synthetic_samples.reshape(n_to_generate, n_features)"
   ]
  },
  {
   "cell_type": "code",
   "execution_count": 35,
   "id": "9494468a-bd0c-495c-b2a7-4ae750b2fe0d",
   "metadata": {},
   "outputs": [
    {
     "name": "stdout",
     "output_type": "stream",
     "text": [
      "After augmentation: Counter({1.0: 1457, 0.0: 1457})\n"
     ]
    }
   ],
   "source": [
    "X_train_combined = np.vstack((X_train_pca, synthetic_samples))\n",
    "#synthetic_labels = np.ones((synthetic_samples.shape[0], 1))\n",
    "synthetic_labels = np.ones((n_to_generate, 1))\n",
    "y_train_combined = np.vstack((y_train_real.values.reshape(-1, 1), synthetic_labels)).ravel()\n",
    "X_augmented = X_train_combined.reshape((X_train_combined.shape[0], 1, 1, n_features, 1))\n",
    "X_val_real_reshaped = X_val_pca.reshape((X_val_pca.shape[0], 1, 1, n_features, 1))\n",
    "X_test_aligned = X_test_pca.reshape((X_test_pca.shape[0], 1, 1, n_features, 1))\n",
    "print(\"After augmentation:\", Counter(y_train_combined))"
   ]
  },
  {
   "cell_type": "code",
   "execution_count": 36,
   "id": "11acee7a-77a2-485e-8836-8081ad7020bf",
   "metadata": {},
   "outputs": [],
   "source": [
    "y_augmented = np.vstack((y_train_real.values.reshape(-1, 1), synthetic_labels))\n",
    "y_augmented = y_augmented.ravel()"
   ]
  },
  {
   "cell_type": "code",
   "execution_count": 37,
   "id": "029ab721-693d-40cc-b704-940a99090128",
   "metadata": {},
   "outputs": [
    {
     "name": "stdout",
     "output_type": "stream",
     "text": [
      "Counter({1: 1457, 0: 1457})\n"
     ]
    }
   ],
   "source": [
    "y_augmented = y_augmented.astype(int)\n",
    "unique_classes = np.unique(y_augmented)\n",
    "class_weights = compute_class_weight(class_weight='balanced', classes=unique_classes, y=y_augmented.ravel())\n",
    "class_weight_dict = {0: 1.0, 1: 1.3875}\n",
    "print(Counter(y_augmented))"
   ]
  },
  {
   "cell_type": "code",
   "execution_count": 38,
   "id": "d97f3852-db59-42da-997b-fcbffbb3e2f8",
   "metadata": {},
   "outputs": [],
   "source": [
    "def focal_loss(gamma=2., alpha=0.25):\n",
    "    def focal_loss_fixed(y_true, y_pred):\n",
    "        y_pred = K.clip(y_pred, 1e-7, 1. - 1e-7)\n",
    "        pt = tf.where(tf.equal(y_true, 1), y_pred, 1 - y_pred)\n",
    "        loss = -alpha * K.pow(1. - pt, gamma) * K.log(pt)\n",
    "        return K.mean(loss)\n",
    "    return focal_loss_fixed"
   ]
  },
  {
   "cell_type": "code",
   "execution_count": 39,
   "id": "aadf2389-d17a-4c4a-8fc6-44c0849f76e3",
   "metadata": {},
   "outputs": [],
   "source": [
    "class AttentionLayer(Layer):\n",
    "    def __init__(self):\n",
    "        super(AttentionLayer, self).__init__()\n",
    "\n",
    "    def build(self, input_shape):\n",
    "        self.W = self.add_weight(name='att_weight', shape=(input_shape[-1], 1),\n",
    "                                 initializer='random_normal', trainable=True)\n",
    "        self.b = self.add_weight(name='att_bias', shape=(input_shape[1], 1),\n",
    "                                 initializer='zeros', trainable=True)\n",
    "        super(AttentionLayer, self).build(input_shape)\n",
    "\n",
    "    def call(self, x):\n",
    "        e = K.tanh(K.dot(x, self.W) + self.b)\n",
    "        alpha = K.softmax(e, axis=1)\n",
    "        context = x * alpha\n",
    "        return K.sum(context, axis=1)\n"
   ]
  },
  {
   "cell_type": "code",
   "execution_count": null,
   "id": "8443bcb9-3fd3-4197-847d-ed935f33dbbf",
   "metadata": {},
   "outputs": [],
   "source": [
    "def gwo_optimize(model_builder, X_train, y_train, X_val, y_val, n_features, n_wolves=5, n_iter=10):\n",
    "    # Define search space: [lr, dropout1, dropout2, l2]\n",
    "    lb = [1e-4, 0.1, 0.1, 1e-5]\n",
    "    ub = [1e-2, 0.5, 0.5, 1e-2]\n",
    "    dim = len(lb)\n",
    "\n",
    "    wolves = np.random.uniform(lb, ub, (n_wolves, dim))\n",
    "    fitness = np.zeros(n_wolves)\n",
    "\n",
    "    def evaluate(pos):\n",
    "        lr, d1, d2, l2_val = pos\n",
    "        model = model_builder(n_features, lr, d1, d2, l2_val)\n",
    "        model.fit(X_train, y_train, epochs=3, verbose=0, batch_size=32)\n",
    "        y_pred = model.predict(X_val).round()\n",
    "        return 1 - accuracy_score(y_val, y_pred)  # minimize error\n",
    "\n",
    "    # Initial fitness\n",
    "    for i in range(n_wolves):\n",
    "        fitness[i] = evaluate(wolves[i])\n",
    "\n",
    "    for t in range(n_iter):\n",
    "        # Sort wolves based on fitness\n",
    "        sorted_idx = np.argsort(fitness)\n",
    "        alpha = wolves[sorted_idx[0]]\n",
    "        beta  = wolves[sorted_idx[1]]\n",
    "        delta = wolves[sorted_idx[2]]\n",
    "\n",
    "        a = 2 - t * (2 / n_iter)  # linearly decrease\n",
    "\n",
    "        for i in range(n_wolves):\n",
    "            for j in range(dim):\n",
    "                r1, r2 = np.random.rand(), np.random.rand()\n",
    "                A1 = 2 * a * r1 - a\n",
    "                C1 = 2 * r2\n",
    "                D_alpha = abs(C1 * alpha[j] - wolves[i][j])\n",
    "                X1 = alpha[j] - A1 * D_alpha\n",
    "\n",
    "                r1, r2 = np.random.rand(), np.random.rand()\n",
    "                A2 = 2 * a * r1 - a\n",
    "                C2 = 2 * r2\n",
    "                D_beta = abs(C2 * beta[j] - wolves[i][j])\n",
    "                X2 = beta[j] - A2 * D_beta\n",
    "\n",
    "                r1, r2 = np.random.rand(), np.random.rand()\n",
    "                A3 = 2 * a * r1 - a\n",
    "                C3 = 2 * r2\n",
    "                D_delta = abs(C3 * delta[j] - wolves[i][j])\n",
    "                X3 = delta[j] - A3 * D_delta\n",
    "\n",
    "                wolves[i][j] = np.clip((X1 + X2 + X3) / 3, lb[j], ub[j])\n",
    "\n",
    "            fitness[i] = evaluate(wolves[i])\n",
    "        print(f\"Iter {t+1}/{n_iter}, Best Fitness: {min(fitness):.4f}\")\n",
    "\n",
    "    best_idx = np.argmin(fitness)\n",
    "    best_params = wolves[best_idx]\n",
    "    return best_params"
   ]
  },
  {
   "cell_type": "code",
   "execution_count": 40,
   "id": "0736a9c7-2d82-4138-a231-003789d9db24",
   "metadata": {},
   "outputs": [],
   "source": [
    "def build_convlstm_model():\n",
    "    inp = Input(shape=(1, 1, n_features, 1))\n",
    "    x = ConvLSTM2D(filters=64, kernel_size=(1, 3), activation='relu', padding='same')(inp)\n",
    "    x = BatchNormalization()(x)\n",
    "    x = Dropout(0.4)(x)\n",
    "    x = AttentionLayer()(x)\n",
    "    x = Flatten()(x)\n",
    "    x = Dense(128, kernel_regularizer=l2(0.0009))(x)\n",
    "    x = LeakyReLU(alpha=0.2)(x)\n",
    "    x = Dropout(0.5)(x)\n",
    "    x = Dense(64, kernel_regularizer=l2(0.0009))(x)\n",
    "    x = LeakyReLU(alpha=0.2)(x)\n",
    "    x = Dropout(0.4)(x)\n",
    "    out = Dense(1, activation='sigmoid')(x)\n",
    "\n",
    "    model = Model(inputs=inp, outputs=out)\n",
    "    model.compile(optimizer='adam', loss=focal_loss(), metrics=['accuracy'])\n",
    "    return model\n"
   ]
  },
  {
   "cell_type": "code",
   "execution_count": 41,
   "id": "5fb37b38-ff78-4871-8275-9f8d0c7de3c5",
   "metadata": {},
   "outputs": [
    {
     "name": "stdout",
     "output_type": "stream",
     "text": [
      "WARNING:tensorflow:From C:\\Users\\vnsat\\AppData\\Roaming\\Python\\Python312\\site-packages\\keras\\src\\backend\\tensorflow\\core.py:204: The name tf.placeholder is deprecated. Please use tf.compat.v1.placeholder instead.\n",
      "\n"
     ]
    },
    {
     "data": {
      "text/html": [
       "<pre style=\"white-space:pre;overflow-x:auto;line-height:normal;font-family:Menlo,'DejaVu Sans Mono',consolas,'Courier New',monospace\"><span style=\"font-weight: bold\">Model: \"functional_1\"</span>\n",
       "</pre>\n"
      ],
      "text/plain": [
       "\u001b[1mModel: \"functional_1\"\u001b[0m\n"
      ]
     },
     "metadata": {},
     "output_type": "display_data"
    },
    {
     "data": {
      "text/html": [
       "<pre style=\"white-space:pre;overflow-x:auto;line-height:normal;font-family:Menlo,'DejaVu Sans Mono',consolas,'Courier New',monospace\">┏━━━━━━━━━━━━━━━━━━━━━━━━━━━━━━━━━━━━━━┳━━━━━━━━━━━━━━━━━━━━━━━━━━━━━┳━━━━━━━━━━━━━━━━━┓\n",
       "┃<span style=\"font-weight: bold\"> Layer (type)                         </span>┃<span style=\"font-weight: bold\"> Output Shape                </span>┃<span style=\"font-weight: bold\">         Param # </span>┃\n",
       "┡━━━━━━━━━━━━━━━━━━━━━━━━━━━━━━━━━━━━━━╇━━━━━━━━━━━━━━━━━━━━━━━━━━━━━╇━━━━━━━━━━━━━━━━━┩\n",
       "│ input_layer_4 (<span style=\"color: #0087ff; text-decoration-color: #0087ff\">InputLayer</span>)           │ (<span style=\"color: #00d7ff; text-decoration-color: #00d7ff\">None</span>, <span style=\"color: #00af00; text-decoration-color: #00af00\">1</span>, <span style=\"color: #00af00; text-decoration-color: #00af00\">1</span>, <span style=\"color: #00af00; text-decoration-color: #00af00\">17</span>, <span style=\"color: #00af00; text-decoration-color: #00af00\">1</span>)         │               <span style=\"color: #00af00; text-decoration-color: #00af00\">0</span> │\n",
       "├──────────────────────────────────────┼─────────────────────────────┼─────────────────┤\n",
       "│ conv_lstm2d (<span style=\"color: #0087ff; text-decoration-color: #0087ff\">ConvLSTM2D</span>)             │ (<span style=\"color: #00d7ff; text-decoration-color: #00d7ff\">None</span>, <span style=\"color: #00af00; text-decoration-color: #00af00\">1</span>, <span style=\"color: #00af00; text-decoration-color: #00af00\">17</span>, <span style=\"color: #00af00; text-decoration-color: #00af00\">64</span>)           │          <span style=\"color: #00af00; text-decoration-color: #00af00\">50,176</span> │\n",
       "├──────────────────────────────────────┼─────────────────────────────┼─────────────────┤\n",
       "│ batch_normalization_3                │ (<span style=\"color: #00d7ff; text-decoration-color: #00d7ff\">None</span>, <span style=\"color: #00af00; text-decoration-color: #00af00\">1</span>, <span style=\"color: #00af00; text-decoration-color: #00af00\">17</span>, <span style=\"color: #00af00; text-decoration-color: #00af00\">64</span>)           │             <span style=\"color: #00af00; text-decoration-color: #00af00\">256</span> │\n",
       "│ (<span style=\"color: #0087ff; text-decoration-color: #0087ff\">BatchNormalization</span>)                 │                             │                 │\n",
       "├──────────────────────────────────────┼─────────────────────────────┼─────────────────┤\n",
       "│ dropout_3 (<span style=\"color: #0087ff; text-decoration-color: #0087ff\">Dropout</span>)                  │ (<span style=\"color: #00d7ff; text-decoration-color: #00d7ff\">None</span>, <span style=\"color: #00af00; text-decoration-color: #00af00\">1</span>, <span style=\"color: #00af00; text-decoration-color: #00af00\">17</span>, <span style=\"color: #00af00; text-decoration-color: #00af00\">64</span>)           │               <span style=\"color: #00af00; text-decoration-color: #00af00\">0</span> │\n",
       "├──────────────────────────────────────┼─────────────────────────────┼─────────────────┤\n",
       "│ attention_layer (<span style=\"color: #0087ff; text-decoration-color: #0087ff\">AttentionLayer</span>)     │ (<span style=\"color: #00d7ff; text-decoration-color: #00d7ff\">None</span>, <span style=\"color: #00af00; text-decoration-color: #00af00\">17</span>, <span style=\"color: #00af00; text-decoration-color: #00af00\">64</span>)              │              <span style=\"color: #00af00; text-decoration-color: #00af00\">65</span> │\n",
       "├──────────────────────────────────────┼─────────────────────────────┼─────────────────┤\n",
       "│ flatten_3 (<span style=\"color: #0087ff; text-decoration-color: #0087ff\">Flatten</span>)                  │ (<span style=\"color: #00d7ff; text-decoration-color: #00d7ff\">None</span>, <span style=\"color: #00af00; text-decoration-color: #00af00\">1088</span>)                │               <span style=\"color: #00af00; text-decoration-color: #00af00\">0</span> │\n",
       "├──────────────────────────────────────┼─────────────────────────────┼─────────────────┤\n",
       "│ dense_8 (<span style=\"color: #0087ff; text-decoration-color: #0087ff\">Dense</span>)                      │ (<span style=\"color: #00d7ff; text-decoration-color: #00d7ff\">None</span>, <span style=\"color: #00af00; text-decoration-color: #00af00\">128</span>)                 │         <span style=\"color: #00af00; text-decoration-color: #00af00\">139,392</span> │\n",
       "├──────────────────────────────────────┼─────────────────────────────┼─────────────────┤\n",
       "│ leaky_re_lu_6 (<span style=\"color: #0087ff; text-decoration-color: #0087ff\">LeakyReLU</span>)            │ (<span style=\"color: #00d7ff; text-decoration-color: #00d7ff\">None</span>, <span style=\"color: #00af00; text-decoration-color: #00af00\">128</span>)                 │               <span style=\"color: #00af00; text-decoration-color: #00af00\">0</span> │\n",
       "├──────────────────────────────────────┼─────────────────────────────┼─────────────────┤\n",
       "│ dropout_4 (<span style=\"color: #0087ff; text-decoration-color: #0087ff\">Dropout</span>)                  │ (<span style=\"color: #00d7ff; text-decoration-color: #00d7ff\">None</span>, <span style=\"color: #00af00; text-decoration-color: #00af00\">128</span>)                 │               <span style=\"color: #00af00; text-decoration-color: #00af00\">0</span> │\n",
       "├──────────────────────────────────────┼─────────────────────────────┼─────────────────┤\n",
       "│ dense_9 (<span style=\"color: #0087ff; text-decoration-color: #0087ff\">Dense</span>)                      │ (<span style=\"color: #00d7ff; text-decoration-color: #00d7ff\">None</span>, <span style=\"color: #00af00; text-decoration-color: #00af00\">64</span>)                  │           <span style=\"color: #00af00; text-decoration-color: #00af00\">8,256</span> │\n",
       "├──────────────────────────────────────┼─────────────────────────────┼─────────────────┤\n",
       "│ leaky_re_lu_7 (<span style=\"color: #0087ff; text-decoration-color: #0087ff\">LeakyReLU</span>)            │ (<span style=\"color: #00d7ff; text-decoration-color: #00d7ff\">None</span>, <span style=\"color: #00af00; text-decoration-color: #00af00\">64</span>)                  │               <span style=\"color: #00af00; text-decoration-color: #00af00\">0</span> │\n",
       "├──────────────────────────────────────┼─────────────────────────────┼─────────────────┤\n",
       "│ dropout_5 (<span style=\"color: #0087ff; text-decoration-color: #0087ff\">Dropout</span>)                  │ (<span style=\"color: #00d7ff; text-decoration-color: #00d7ff\">None</span>, <span style=\"color: #00af00; text-decoration-color: #00af00\">64</span>)                  │               <span style=\"color: #00af00; text-decoration-color: #00af00\">0</span> │\n",
       "├──────────────────────────────────────┼─────────────────────────────┼─────────────────┤\n",
       "│ dense_10 (<span style=\"color: #0087ff; text-decoration-color: #0087ff\">Dense</span>)                     │ (<span style=\"color: #00d7ff; text-decoration-color: #00d7ff\">None</span>, <span style=\"color: #00af00; text-decoration-color: #00af00\">1</span>)                   │              <span style=\"color: #00af00; text-decoration-color: #00af00\">65</span> │\n",
       "└──────────────────────────────────────┴─────────────────────────────┴─────────────────┘\n",
       "</pre>\n"
      ],
      "text/plain": [
       "┏━━━━━━━━━━━━━━━━━━━━━━━━━━━━━━━━━━━━━━┳━━━━━━━━━━━━━━━━━━━━━━━━━━━━━┳━━━━━━━━━━━━━━━━━┓\n",
       "┃\u001b[1m \u001b[0m\u001b[1mLayer (type)                        \u001b[0m\u001b[1m \u001b[0m┃\u001b[1m \u001b[0m\u001b[1mOutput Shape               \u001b[0m\u001b[1m \u001b[0m┃\u001b[1m \u001b[0m\u001b[1m        Param #\u001b[0m\u001b[1m \u001b[0m┃\n",
       "┡━━━━━━━━━━━━━━━━━━━━━━━━━━━━━━━━━━━━━━╇━━━━━━━━━━━━━━━━━━━━━━━━━━━━━╇━━━━━━━━━━━━━━━━━┩\n",
       "│ input_layer_4 (\u001b[38;5;33mInputLayer\u001b[0m)           │ (\u001b[38;5;45mNone\u001b[0m, \u001b[38;5;34m1\u001b[0m, \u001b[38;5;34m1\u001b[0m, \u001b[38;5;34m17\u001b[0m, \u001b[38;5;34m1\u001b[0m)         │               \u001b[38;5;34m0\u001b[0m │\n",
       "├──────────────────────────────────────┼─────────────────────────────┼─────────────────┤\n",
       "│ conv_lstm2d (\u001b[38;5;33mConvLSTM2D\u001b[0m)             │ (\u001b[38;5;45mNone\u001b[0m, \u001b[38;5;34m1\u001b[0m, \u001b[38;5;34m17\u001b[0m, \u001b[38;5;34m64\u001b[0m)           │          \u001b[38;5;34m50,176\u001b[0m │\n",
       "├──────────────────────────────────────┼─────────────────────────────┼─────────────────┤\n",
       "│ batch_normalization_3                │ (\u001b[38;5;45mNone\u001b[0m, \u001b[38;5;34m1\u001b[0m, \u001b[38;5;34m17\u001b[0m, \u001b[38;5;34m64\u001b[0m)           │             \u001b[38;5;34m256\u001b[0m │\n",
       "│ (\u001b[38;5;33mBatchNormalization\u001b[0m)                 │                             │                 │\n",
       "├──────────────────────────────────────┼─────────────────────────────┼─────────────────┤\n",
       "│ dropout_3 (\u001b[38;5;33mDropout\u001b[0m)                  │ (\u001b[38;5;45mNone\u001b[0m, \u001b[38;5;34m1\u001b[0m, \u001b[38;5;34m17\u001b[0m, \u001b[38;5;34m64\u001b[0m)           │               \u001b[38;5;34m0\u001b[0m │\n",
       "├──────────────────────────────────────┼─────────────────────────────┼─────────────────┤\n",
       "│ attention_layer (\u001b[38;5;33mAttentionLayer\u001b[0m)     │ (\u001b[38;5;45mNone\u001b[0m, \u001b[38;5;34m17\u001b[0m, \u001b[38;5;34m64\u001b[0m)              │              \u001b[38;5;34m65\u001b[0m │\n",
       "├──────────────────────────────────────┼─────────────────────────────┼─────────────────┤\n",
       "│ flatten_3 (\u001b[38;5;33mFlatten\u001b[0m)                  │ (\u001b[38;5;45mNone\u001b[0m, \u001b[38;5;34m1088\u001b[0m)                │               \u001b[38;5;34m0\u001b[0m │\n",
       "├──────────────────────────────────────┼─────────────────────────────┼─────────────────┤\n",
       "│ dense_8 (\u001b[38;5;33mDense\u001b[0m)                      │ (\u001b[38;5;45mNone\u001b[0m, \u001b[38;5;34m128\u001b[0m)                 │         \u001b[38;5;34m139,392\u001b[0m │\n",
       "├──────────────────────────────────────┼─────────────────────────────┼─────────────────┤\n",
       "│ leaky_re_lu_6 (\u001b[38;5;33mLeakyReLU\u001b[0m)            │ (\u001b[38;5;45mNone\u001b[0m, \u001b[38;5;34m128\u001b[0m)                 │               \u001b[38;5;34m0\u001b[0m │\n",
       "├──────────────────────────────────────┼─────────────────────────────┼─────────────────┤\n",
       "│ dropout_4 (\u001b[38;5;33mDropout\u001b[0m)                  │ (\u001b[38;5;45mNone\u001b[0m, \u001b[38;5;34m128\u001b[0m)                 │               \u001b[38;5;34m0\u001b[0m │\n",
       "├──────────────────────────────────────┼─────────────────────────────┼─────────────────┤\n",
       "│ dense_9 (\u001b[38;5;33mDense\u001b[0m)                      │ (\u001b[38;5;45mNone\u001b[0m, \u001b[38;5;34m64\u001b[0m)                  │           \u001b[38;5;34m8,256\u001b[0m │\n",
       "├──────────────────────────────────────┼─────────────────────────────┼─────────────────┤\n",
       "│ leaky_re_lu_7 (\u001b[38;5;33mLeakyReLU\u001b[0m)            │ (\u001b[38;5;45mNone\u001b[0m, \u001b[38;5;34m64\u001b[0m)                  │               \u001b[38;5;34m0\u001b[0m │\n",
       "├──────────────────────────────────────┼─────────────────────────────┼─────────────────┤\n",
       "│ dropout_5 (\u001b[38;5;33mDropout\u001b[0m)                  │ (\u001b[38;5;45mNone\u001b[0m, \u001b[38;5;34m64\u001b[0m)                  │               \u001b[38;5;34m0\u001b[0m │\n",
       "├──────────────────────────────────────┼─────────────────────────────┼─────────────────┤\n",
       "│ dense_10 (\u001b[38;5;33mDense\u001b[0m)                     │ (\u001b[38;5;45mNone\u001b[0m, \u001b[38;5;34m1\u001b[0m)                   │              \u001b[38;5;34m65\u001b[0m │\n",
       "└──────────────────────────────────────┴─────────────────────────────┴─────────────────┘\n"
      ]
     },
     "metadata": {},
     "output_type": "display_data"
    },
    {
     "data": {
      "text/html": [
       "<pre style=\"white-space:pre;overflow-x:auto;line-height:normal;font-family:Menlo,'DejaVu Sans Mono',consolas,'Courier New',monospace\"><span style=\"font-weight: bold\"> Total params: </span><span style=\"color: #00af00; text-decoration-color: #00af00\">198,210</span> (774.26 KB)\n",
       "</pre>\n"
      ],
      "text/plain": [
       "\u001b[1m Total params: \u001b[0m\u001b[38;5;34m198,210\u001b[0m (774.26 KB)\n"
      ]
     },
     "metadata": {},
     "output_type": "display_data"
    },
    {
     "data": {
      "text/html": [
       "<pre style=\"white-space:pre;overflow-x:auto;line-height:normal;font-family:Menlo,'DejaVu Sans Mono',consolas,'Courier New',monospace\"><span style=\"font-weight: bold\"> Trainable params: </span><span style=\"color: #00af00; text-decoration-color: #00af00\">198,082</span> (773.76 KB)\n",
       "</pre>\n"
      ],
      "text/plain": [
       "\u001b[1m Trainable params: \u001b[0m\u001b[38;5;34m198,082\u001b[0m (773.76 KB)\n"
      ]
     },
     "metadata": {},
     "output_type": "display_data"
    },
    {
     "data": {
      "text/html": [
       "<pre style=\"white-space:pre;overflow-x:auto;line-height:normal;font-family:Menlo,'DejaVu Sans Mono',consolas,'Courier New',monospace\"><span style=\"font-weight: bold\"> Non-trainable params: </span><span style=\"color: #00af00; text-decoration-color: #00af00\">128</span> (512.00 B)\n",
       "</pre>\n"
      ],
      "text/plain": [
       "\u001b[1m Non-trainable params: \u001b[0m\u001b[38;5;34m128\u001b[0m (512.00 B)\n"
      ]
     },
     "metadata": {},
     "output_type": "display_data"
    },
    {
     "name": "stdout",
     "output_type": "stream",
     "text": [
      "None\n"
     ]
    }
   ],
   "source": [
    "convlstm = build_convlstm_model()\n",
    "print(convlstm.summary())"
   ]
  },
  {
   "cell_type": "code",
   "execution_count": 42,
   "id": "43f53b8c-10cf-4409-b5aa-b628f874e01b",
   "metadata": {},
   "outputs": [],
   "source": [
    "X_val_real_reshaped = X_val_pca.reshape((X_val_pca.shape[0], 1, 1, X_val_pca.shape[1], 1))"
   ]
  },
  {
   "cell_type": "code",
   "execution_count": 43,
   "id": "0d8e096e-b27a-4c73-aa4d-522e3b804a0d",
   "metadata": {},
   "outputs": [
    {
     "name": "stdout",
     "output_type": "stream",
     "text": [
      "Epoch 1/20\n",
      "\u001b[1m23/23\u001b[0m \u001b[32m━━━━━━━━━━━━━━━━━━━━\u001b[0m\u001b[37m\u001b[0m \u001b[1m6s\u001b[0m 48ms/step - accuracy: 0.7468 - loss: 0.3194 - val_accuracy: 0.5457 - val_loss: 0.2694\n",
      "Epoch 2/20\n",
      "\u001b[1m23/23\u001b[0m \u001b[32m━━━━━━━━━━━━━━━━━━━━\u001b[0m\u001b[37m\u001b[0m \u001b[1m1s\u001b[0m 23ms/step - accuracy: 0.9073 - loss: 0.2356 - val_accuracy: 0.6464 - val_loss: 0.2156\n",
      "Epoch 3/20\n",
      "\u001b[1m23/23\u001b[0m \u001b[32m━━━━━━━━━━━━━━━━━━━━\u001b[0m\u001b[37m\u001b[0m \u001b[1m1s\u001b[0m 22ms/step - accuracy: 0.9145 - loss: 0.1819 - val_accuracy: 0.7073 - val_loss: 0.1743\n",
      "Epoch 4/20\n",
      "\u001b[1m23/23\u001b[0m \u001b[32m━━━━━━━━━━━━━━━━━━━━\u001b[0m\u001b[37m\u001b[0m \u001b[1m1s\u001b[0m 23ms/step - accuracy: 0.9186 - loss: 0.1417 - val_accuracy: 0.6792 - val_loss: 0.1441\n",
      "Epoch 5/20\n",
      "\u001b[1m23/23\u001b[0m \u001b[32m━━━━━━━━━━━━━━━━━━━━\u001b[0m\u001b[37m\u001b[0m \u001b[1m1s\u001b[0m 22ms/step - accuracy: 0.9251 - loss: 0.1153 - val_accuracy: 0.7471 - val_loss: 0.1209\n",
      "Epoch 6/20\n",
      "\u001b[1m23/23\u001b[0m \u001b[32m━━━━━━━━━━━━━━━━━━━━\u001b[0m\u001b[37m\u001b[0m \u001b[1m1s\u001b[0m 24ms/step - accuracy: 0.9220 - loss: 0.0927 - val_accuracy: 0.7213 - val_loss: 0.1047\n",
      "Epoch 7/20\n",
      "\u001b[1m23/23\u001b[0m \u001b[32m━━━━━━━━━━━━━━━━━━━━\u001b[0m\u001b[37m\u001b[0m \u001b[1m0s\u001b[0m 19ms/step - accuracy: 0.9235 - loss: 0.0773 - val_accuracy: 0.7424 - val_loss: 0.0911\n",
      "Epoch 8/20\n",
      "\u001b[1m23/23\u001b[0m \u001b[32m━━━━━━━━━━━━━━━━━━━━\u001b[0m\u001b[37m\u001b[0m \u001b[1m0s\u001b[0m 20ms/step - accuracy: 0.9370 - loss: 0.0651 - val_accuracy: 0.7143 - val_loss: 0.0820\n",
      "Epoch 9/20\n",
      "\u001b[1m23/23\u001b[0m \u001b[32m━━━━━━━━━━━━━━━━━━━━\u001b[0m\u001b[37m\u001b[0m \u001b[1m1s\u001b[0m 31ms/step - accuracy: 0.9302 - loss: 0.0553 - val_accuracy: 0.6604 - val_loss: 0.0750\n",
      "Epoch 10/20\n",
      "\u001b[1m23/23\u001b[0m \u001b[32m━━━━━━━━━━━━━━━━━━━━\u001b[0m\u001b[37m\u001b[0m \u001b[1m0s\u001b[0m 20ms/step - accuracy: 0.9327 - loss: 0.0484 - val_accuracy: 0.7330 - val_loss: 0.0671\n",
      "Epoch 11/20\n",
      "\u001b[1m23/23\u001b[0m \u001b[32m━━━━━━━━━━━━━━━━━━━━\u001b[0m\u001b[37m\u001b[0m \u001b[1m0s\u001b[0m 19ms/step - accuracy: 0.9311 - loss: 0.0426 - val_accuracy: 0.8009 - val_loss: 0.0600\n",
      "Epoch 12/20\n",
      "\u001b[1m23/23\u001b[0m \u001b[32m━━━━━━━━━━━━━━━━━━━━\u001b[0m\u001b[37m\u001b[0m \u001b[1m1s\u001b[0m 20ms/step - accuracy: 0.9308 - loss: 0.0386 - val_accuracy: 0.8290 - val_loss: 0.0534\n",
      "Epoch 13/20\n",
      "\u001b[1m23/23\u001b[0m \u001b[32m━━━━━━━━━━━━━━━━━━━━\u001b[0m\u001b[37m\u001b[0m \u001b[1m1s\u001b[0m 20ms/step - accuracy: 0.9376 - loss: 0.0345 - val_accuracy: 0.8384 - val_loss: 0.0503\n",
      "Epoch 14/20\n",
      "\u001b[1m23/23\u001b[0m \u001b[32m━━━━━━━━━━━━━━━━━━━━\u001b[0m\u001b[37m\u001b[0m \u001b[1m0s\u001b[0m 19ms/step - accuracy: 0.9334 - loss: 0.0310 - val_accuracy: 0.8361 - val_loss: 0.0464\n",
      "Epoch 15/20\n",
      "\u001b[1m23/23\u001b[0m \u001b[32m━━━━━━━━━━━━━━━━━━━━\u001b[0m\u001b[37m\u001b[0m \u001b[1m0s\u001b[0m 19ms/step - accuracy: 0.9315 - loss: 0.0292 - val_accuracy: 0.8642 - val_loss: 0.0422\n",
      "Epoch 16/20\n",
      "\u001b[1m23/23\u001b[0m \u001b[32m━━━━━━━━━━━━━━━━━━━━\u001b[0m\u001b[37m\u001b[0m \u001b[1m1s\u001b[0m 21ms/step - accuracy: 0.9343 - loss: 0.0273 - val_accuracy: 0.8642 - val_loss: 0.0397\n",
      "Epoch 17/20\n",
      "\u001b[1m23/23\u001b[0m \u001b[32m━━━━━━━━━━━━━━━━━━━━\u001b[0m\u001b[37m\u001b[0m \u001b[1m0s\u001b[0m 19ms/step - accuracy: 0.9373 - loss: 0.0252 - val_accuracy: 0.8618 - val_loss: 0.0381\n",
      "Epoch 18/20\n",
      "\u001b[1m23/23\u001b[0m \u001b[32m━━━━━━━━━━━━━━━━━━━━\u001b[0m\u001b[37m\u001b[0m \u001b[1m0s\u001b[0m 19ms/step - accuracy: 0.9394 - loss: 0.0247 - val_accuracy: 0.8759 - val_loss: 0.0352\n",
      "Epoch 19/20\n",
      "\u001b[1m23/23\u001b[0m \u001b[32m━━━━━━━━━━━━━━━━━━━━\u001b[0m\u001b[37m\u001b[0m \u001b[1m0s\u001b[0m 19ms/step - accuracy: 0.9439 - loss: 0.0215 - val_accuracy: 0.8829 - val_loss: 0.0342\n",
      "Epoch 20/20\n",
      "\u001b[1m23/23\u001b[0m \u001b[32m━━━━━━━━━━━━━━━━━━━━\u001b[0m\u001b[37m\u001b[0m \u001b[1m0s\u001b[0m 19ms/step - accuracy: 0.9385 - loss: 0.0225 - val_accuracy: 0.8876 - val_loss: 0.0333\n"
     ]
    }
   ],
   "source": [
    "early_stop = EarlyStopping(\n",
    "    monitor='val_loss',\n",
    "    patience=3,\n",
    "    restore_best_weights=True\n",
    ")\n",
    "convlstm_history = convlstm.fit(\n",
    "    X_augmented, \n",
    "    y_augmented, \n",
    "    epochs=20, \n",
    "    batch_size=128, \n",
    "    validation_data=(X_val_real_reshaped, y_val_real),\n",
    "    class_weight=class_weight_dict,\n",
    "    callbacks=[early_stop]\n",
    ")"
   ]
  },
  {
   "cell_type": "code",
   "execution_count": 44,
   "id": "755a3bf3-50d9-432a-b57c-f24f41544f00",
   "metadata": {},
   "outputs": [],
   "source": [
    "X_test_aligned = X_test_pca.reshape((X_test_pca.shape[0], 1, 1, X_test_pca.shape[1], 1))"
   ]
  },
  {
   "cell_type": "code",
   "execution_count": 45,
   "id": "83743b8f-a780-4823-b94e-3a3dcfd6b33b",
   "metadata": {},
   "outputs": [
    {
     "name": "stdout",
     "output_type": "stream",
     "text": [
      "X_test_aligned shape: (534, 1, 1, 17, 1)\n",
      "y_test shape: (534,)\n"
     ]
    }
   ],
   "source": [
    "print(\"X_test_aligned shape:\", X_test_aligned.shape)\n",
    "print(\"y_test shape:\", y_test.shape)"
   ]
  },
  {
   "cell_type": "code",
   "execution_count": 46,
   "id": "243339c5-56ff-4d2c-aeb8-674af1cc2820",
   "metadata": {},
   "outputs": [
    {
     "name": "stdout",
     "output_type": "stream",
     "text": [
      "\u001b[1m14/14\u001b[0m \u001b[32m━━━━━━━━━━━━━━━━━━━━\u001b[0m\u001b[37m\u001b[0m \u001b[1m1s\u001b[0m 33ms/step\n",
      "Best threshold for F2: 0.45000000000000007 with score: 0.5374592833876222\n"
     ]
    }
   ],
   "source": [
    "y_val_probs = convlstm.predict(X_val_real_reshaped)\n",
    "\n",
    "thresholds = np.arange(0.1, 1.0, 0.05)\n",
    "best_thresh = 0.5\n",
    "best_f2 = 0\n",
    "\n",
    "for thresh in thresholds:\n",
    "    y_val_pred = (y_val_probs > thresh).astype(int)\n",
    "    f2 = fbeta_score(y_val_real, y_val_pred, beta=2)\n",
    "    if f2 > best_f2:\n",
    "        best_f2 = f2\n",
    "        best_thresh = thresh\n",
    "\n",
    "print(f\"Best threshold for F2: {best_thresh} with score: {best_f2}\")"
   ]
  },
  {
   "cell_type": "code",
   "execution_count": 47,
   "id": "d98b9367-18a0-4dd2-99b2-b8cc4b23c3ff",
   "metadata": {},
   "outputs": [
    {
     "name": "stdout",
     "output_type": "stream",
     "text": [
      "\u001b[1m17/17\u001b[0m \u001b[32m━━━━━━━━━━━━━━━━━━━━\u001b[0m\u001b[37m\u001b[0m \u001b[1m0s\u001b[0m 3ms/step\n"
     ]
    }
   ],
   "source": [
    "y_pred = (convlstm.predict(X_test_aligned) > best_thresh).astype(int)"
   ]
  },
  {
   "cell_type": "code",
   "execution_count": 48,
   "id": "60584692-4afc-47e1-922d-8faf960a12eb",
   "metadata": {},
   "outputs": [
    {
     "name": "stdout",
     "output_type": "stream",
     "text": [
      "Classification Report:\n",
      " {'0': {'precision': 0.9230769230769231, 'recall': 0.9210526315789473, 'f1-score': 0.9220636663007684, 'support': 456.0}, '1': {'precision': 0.5443037974683544, 'recall': 0.5512820512820513, 'f1-score': 0.5477707006369427, 'support': 78.0}, 'accuracy': 0.8670411985018727, 'macro avg': {'precision': 0.7336903602726388, 'recall': 0.7361673414304993, 'f1-score': 0.7349171834688555, 'support': 534.0}, 'weighted avg': {'precision': 0.8677505114711772, 'recall': 0.8670411985018727, 'f1-score': 0.8673916600802095, 'support': 534.0}}\n",
      "Confusion Matrix:\n",
      " [[420  36]\n",
      " [ 35  43]]\n",
      "Accuracy:\n",
      " 0.8670411985018727\n"
     ]
    }
   ],
   "source": [
    "report = classification_report(y_test, y_pred, output_dict=True)\n",
    "print(\"Classification Report:\\n\", report)\n",
    "print(\"Confusion Matrix:\\n\", confusion_matrix(y_test, y_pred))\n",
    "print(\"Accuracy:\\n\",accuracy_score(y_test,y_pred))"
   ]
  },
  {
   "cell_type": "code",
   "execution_count": 49,
   "id": "e165e15b-5ccf-4302-900f-5937241e22f5",
   "metadata": {},
   "outputs": [
    {
     "name": "stdout",
     "output_type": "stream",
     "text": [
      "acc = 0.8670\n",
      "prec = 0.8678\n",
      "rec = 0.8670\n",
      "f1 = 0.8674\n"
     ]
    }
   ],
   "source": [
    "acc = report['accuracy']\n",
    "prec = report['weighted avg']['precision']\n",
    "rec = report['weighted avg']['recall']\n",
    "f1 = report['weighted avg']['f1-score']\n",
    "\n",
    "print(f\"acc = {acc:.4f}\")\n",
    "print(f\"prec = {prec:.4f}\")\n",
    "print(f\"rec = {rec:.4f}\")\n",
    "print(f\"f1 = {f1:.4f}\")"
   ]
  },
  {
   "cell_type": "code",
   "execution_count": 50,
   "id": "c68c2ef4-b3ac-4602-b9e7-b6d513f6bf71",
   "metadata": {},
   "outputs": [
    {
     "data": {
      "image/png": "[encoded data removed]",
      "text/plain": [
       "<Figure size 1200x500 with 2 Axes>"
      ]
     },
     "metadata": {},
     "output_type": "display_data"
    }
   ],
   "source": [
    "plt.figure(figsize=(12, 5))\n",
    "#plt.title('Accuracy and Loss of ConvLSTM Model')\n",
    "\n",
    "\n",
    "# Accuracy plot\n",
    "plt.subplot(1, 2, 1)\n",
    "plt.plot(convlstm_history.history['accuracy'], label='Training Accuracy')\n",
    "plt.plot(convlstm_history.history['val_accuracy'], label='Validation Accuracy')\n",
    "plt.title('ConvLSTM Model Accuracy')\n",
    "plt.xlabel('Epochs')\n",
    "plt.ylabel('Accuracy')\n",
    "plt.legend()\n",
    "\n",
    "# Loss plot\n",
    "plt.subplot(1, 2, 2)\n",
    "plt.plot(convlstm_history.history['loss'], label='Training Loss')\n",
    "plt.plot(convlstm_history.history['val_loss'], label='Validation Loss')\n",
    "plt.title('ConvLSTM Model Loss')\n",
    "plt.xlabel('Epochs')\n",
    "plt.ylabel('Loss')\n",
    "plt.legend()\n",
    "\n",
    "plt.show()"
   ]
  },
  {
   "cell_type": "code",
   "execution_count": null,
   "id": "8ff89e48-9581-4750-9117-3dbb86ef3fd0",
   "metadata": {},
   "outputs": [],
   "source": []
  }
 ],
 "metadata": {
  "kernelspec": {
   "display_name": "Python 3 (ipykernel)",
   "language": "python",
   "name": "python3"
  },
  "language_info": {
   "codemirror_mode": {
    "name": "ipython",
    "version": 3
   },
   "file_extension": ".py",
   "mimetype": "text/x-python",
   "name": "python",
   "nbconvert_exporter": "python",
   "pygments_lexer": "ipython3",
   "version": "3.12.4"
  }
 },
 "nbformat": 4,
 "nbformat_minor": 5
}
